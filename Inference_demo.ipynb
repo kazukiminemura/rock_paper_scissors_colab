{
  "nbformat": 4,
  "nbformat_minor": 0,
  "metadata": {
    "colab": {
      "name": "Inference_demo.ipynb",
      "provenance": [],
      "authorship_tag": "ABX9TyOslaHUp7IMoGTJgYzUW0xG",
      "include_colab_link": true
    },
    "kernelspec": {
      "name": "python3",
      "display_name": "Python 3"
    },
    "language_info": {
      "name": "python"
    }
  },
  "cells": [
    {
      "cell_type": "markdown",
      "metadata": {
        "id": "view-in-github",
        "colab_type": "text"
      },
      "source": [
        "<a href=\"https://colab.research.google.com/github/kazukiminemura/rock_paper_scissors_colab/blob/main/Inference_demo.ipynb\" target=\"_parent\"><img src=\"https://colab.research.google.com/assets/colab-badge.svg\" alt=\"Open In Colab\"/></a>"
      ]
    },
    {
      "cell_type": "code",
      "execution_count": 1,
      "metadata": {
        "colab": {
          "base_uri": "https://localhost:8080/"
        },
        "id": "sldrrOvIUgrA",
        "outputId": "ae75af2d-afb9-47f1-ae2d-a43f1ee9c617"
      },
      "outputs": [
        {
          "output_type": "stream",
          "name": "stdout",
          "text": [
            "2.8.0\n"
          ]
        }
      ],
      "source": [
        "%tensorflow_version 2.x\n",
        "import tensorflow as tf\n",
        "print(tf.__version__)"
      ]
    },
    {
      "cell_type": "code",
      "source": [
        "import time\n",
        "import numpy as np\n",
        "import tensorflow_hub as hub # efficientnet model\n",
        "\n",
        "from tensorflow.keras.preprocessing.image import img_to_array, load_img\n",
        "from google.colab import drive\n",
        "drive.mount('/content/drive')"
      ],
      "metadata": {
        "colab": {
          "base_uri": "https://localhost:8080/"
        },
        "id": "zp4bN3JaUqoY",
        "outputId": "ccce745e-4090-48b4-99f7-837cfe07c6be"
      },
      "execution_count": 11,
      "outputs": [
        {
          "output_type": "stream",
          "name": "stdout",
          "text": [
            "Drive already mounted at /content/drive; to attempt to forcibly remount, call drive.mount(\"/content/drive\", force_remount=True).\n"
          ]
        }
      ]
    },
    {
      "cell_type": "code",
      "source": [
        "!cp '/content/drive/My Drive/efficientnet.h5' './efficientnet.h5'\n",
        "!cp '/content/drive/My Drive/labels.txt' './labels.txt'\n",
        "!ls"
      ],
      "metadata": {
        "colab": {
          "base_uri": "https://localhost:8080/"
        },
        "id": "dJkv2_PQU3Um",
        "outputId": "3383e9a0-8d3b-4d5f-83e7-12c9986b0516"
      },
      "execution_count": 5,
      "outputs": [
        {
          "output_type": "stream",
          "name": "stdout",
          "text": [
            "drive  efficientnet.h5\tlabels.txt  sample_data\n"
          ]
        }
      ]
    },
    {
      "cell_type": "code",
      "source": [
        "# load model\n",
        "keras_model = tf.keras.models.load_model(\"efficientnet.h5\", custom_objects={'KerasLayer': hub.KerasLayer})\n",
        "keras_model.summary()"
      ],
      "metadata": {
        "colab": {
          "base_uri": "https://localhost:8080/"
        },
        "id": "VU4LfNGOV4WF",
        "outputId": "5e04daa3-0d64-4e41-cec7-bb2cdedf6401"
      },
      "execution_count": 12,
      "outputs": [
        {
          "output_type": "stream",
          "name": "stdout",
          "text": [
            "Model: \"sequential\"\n",
            "_________________________________________________________________\n",
            " Layer (type)                Output Shape              Param #   \n",
            "=================================================================\n",
            " keras_layer (KerasLayer)    (None, 1000)              5330564   \n",
            "                                                                 \n",
            " dense (Dense)               (None, 3)                 3003      \n",
            "                                                                 \n",
            "=================================================================\n",
            "Total params: 5,333,567\n",
            "Trainable params: 3,003\n",
            "Non-trainable params: 5,330,564\n",
            "_________________________________________________________________\n"
          ]
        }
      ]
    },
    {
      "cell_type": "code",
      "source": [
        "labels = []\n",
        "with open('labels.txt', 'r') as f:\n",
        "  for line in f:\n",
        "    labels.append(line.rstrip())\n",
        "print(labels)\n",
        "\n",
        "NUM_CLASSES = len(labels)"
      ],
      "metadata": {
        "colab": {
          "base_uri": "https://localhost:8080/"
        },
        "id": "MYSbZkEAWMdK",
        "outputId": "b238e0a5-cdf9-4895-cbbd-0e4a244d6061"
      },
      "execution_count": 13,
      "outputs": [
        {
          "output_type": "stream",
          "name": "stdout",
          "text": [
            "['choki', 'gu', 'pa']\n"
          ]
        }
      ]
    },
    {
      "cell_type": "code",
      "source": [
        "# run demo\n",
        "!wget https://raw.githubusercontent.com/karaage0703/karaage-ai-book/master/util/colab_camera.py\n",
        "import colab_camera\n"
      ],
      "metadata": {
        "colab": {
          "base_uri": "https://localhost:8080/"
        },
        "id": "lbinv6bmXZQg",
        "outputId": "9178cf39-20ef-48ae-c360-d18a655e16db"
      },
      "execution_count": 18,
      "outputs": [
        {
          "output_type": "stream",
          "name": "stdout",
          "text": [
            "--2022-04-03 17:04:15--  https://raw.githubusercontent.com/karaage0703/karaage-ai-book/master/util/colab_camera.py\n",
            "Resolving raw.githubusercontent.com (raw.githubusercontent.com)... 185.199.108.133, 185.199.109.133, 185.199.110.133, ...\n",
            "Connecting to raw.githubusercontent.com (raw.githubusercontent.com)|185.199.108.133|:443... connected.\n",
            "HTTP request sent, awaiting response... 200 OK\n",
            "Length: 3036 (3.0K) [text/plain]\n",
            "Saving to: ‘colab_camera.py.1’\n",
            "\n",
            "\rcolab_camera.py.1     0%[                    ]       0  --.-KB/s               \rcolab_camera.py.1   100%[===================>]   2.96K  --.-KB/s    in 0s      \n",
            "\n",
            "2022-04-03 17:04:15 (52.7 MB/s) - ‘colab_camera.py.1’ saved [3036/3036]\n",
            "\n"
          ]
        }
      ]
    },
    {
      "cell_type": "code",
      "source": [
        "import cv2\n",
        "import base64\n",
        "import IPython\n",
        "import numpy as np\n",
        "\n",
        "from PIL import Image\n",
        "from io import BytesIO\n",
        "from google.colab import output"
      ],
      "metadata": {
        "id": "OnuDHfYQXoHZ"
      },
      "execution_count": 20,
      "outputs": []
    },
    {
      "cell_type": "code",
      "source": [
        "def run(img_str):\n",
        "  # decode to image\n",
        "  decimg = base64.b64decode(img_str.split('.')[1], validate=True)\n",
        "  decimg = Image.open(BytesIO(decimg))\n",
        "  decimg = np.array(decimg, dtype=np.uint8)\n",
        "  decimg = cv2.cvtColor(decimg, cv2.COLOR_BGR2RGB)\n",
        "\n",
        "  # image classify\n",
        "  img = cv2.resize(decimg, (64, 64))\n",
        "  img = img_to_array(img)\n",
        "  img = img / 255.0\n",
        "  img = img[np.newaxis]\n",
        "  img = np.array(img)\n",
        "\n",
        "  preds = keras_model.predict(img)\n",
        "  result = np.argmax(preds[0])\n",
        "\n",
        "  # draw output\n",
        "  out_img = decimg\n",
        "  cv2.putText(out_img, labels[result], (10, 50), \\\n",
        "              cv2.FONT_HERSHEY_SIMPLEX, 1, (0, 0, 255), 1, cv2.LINE_AA)\n",
        "  \n",
        "  # encode to string\n",
        "  _, encimg = cv2.imencode(\".jpg\", out_img,\n",
        "                           [int(cv2.IMWRITE_JPEG_QUALITY), 80])\n",
        "  img_str = encimg.tostring()\n",
        "  img_str = (\"data:image/jpeg;base64,\" +\n",
        "             base64.b64encode(img_str).decode('utf-8'))\n",
        "  \n",
        "  return IPython.display.JSON({'img_str': img_str})\n",
        "\n",
        "output.register_callback('notebook.run', run)"
      ],
      "metadata": {
        "id": "i3jzCDs1ZJCL"
      },
      "execution_count": 24,
      "outputs": []
    },
    {
      "cell_type": "code",
      "source": [
        "colab_camera.use_cam()"
      ],
      "metadata": {
        "colab": {
          "base_uri": "https://localhost:8080/",
          "height": 417
        },
        "id": "EdqgwUBObEfS",
        "outputId": "e16d59b2-4c92-4bcf-e2f5-cec4c55a547b"
      },
      "execution_count": 25,
      "outputs": [
        {
          "output_type": "display_data",
          "data": {
            "text/plain": [
              "<IPython.core.display.Javascript object>"
            ],
            "application/javascript": [
              "\n",
              "    async function useCam(quality) {\n",
              "      const div = document.createElement('div');\n",
              "      document.body.appendChild(div);\n",
              "      //video element\n",
              "      const video = document.createElement('video');\n",
              "      video.style.display = 'None';\n",
              "      const stream = await navigator.mediaDevices.getUserMedia({video: true});\n",
              "      div.appendChild(video);\n",
              "      video.srcObject = stream;\n",
              "      await video.play();\n",
              "\n",
              "      //canvas for display. frame rate is depending on display size and jpeg quality.\n",
              "      display_size = 500 \n",
              "      const src_canvas = document.createElement('canvas');\n",
              "      src_canvas.width  = display_size;\n",
              "      src_canvas.height = display_size * video.videoHeight / video.videoWidth;\n",
              "      const src_canvasCtx = src_canvas.getContext('2d');\n",
              "      src_canvasCtx.translate(src_canvas.width, 0);\n",
              "      src_canvasCtx.scale(-1, 1);\n",
              "      div.appendChild(src_canvas);\n",
              "\n",
              "      const dst_canvas = document.createElement('canvas');\n",
              "      dst_canvas.width  = src_canvas.width;\n",
              "      dst_canvas.height = src_canvas.height;\n",
              "      const dst_canvasCtx = dst_canvas.getContext('2d');\n",
              "      div.appendChild(dst_canvas);\n",
              "\n",
              "      //exit button\n",
              "      const btn_div = document.createElement('div');\n",
              "      document.body.appendChild(btn_div);\n",
              "      const exit_btn = document.createElement('button');\n",
              "      exit_btn.textContent = 'Exit';\n",
              "      var exit_flg = true\n",
              "      exit_btn.onclick = function() {exit_flg = false};\n",
              "      btn_div.appendChild(exit_btn);\n",
              "\n",
              "      // Resize the output to fit the video element.\n",
              "      google.colab.output.setIframeHeight(document.documentElement.scrollHeight, true);\n",
              "\n",
              "      var send_num = 0\n",
              "      // loop\n",
              "      _canvasUpdate();\n",
              "      async function _canvasUpdate() {\n",
              "            src_canvasCtx.drawImage(video, 0, 0, video.videoWidth, video.videoHeight, 0, 0, src_canvas.width, src_canvas.height);     \n",
              "            if (send_num<1){\n",
              "                send_num += 1\n",
              "                const img = src_canvas.toDataURL('image/jpeg', quality);\n",
              "                const result = google.colab.kernel.invokeFunction('notebook.run', [img], {});\n",
              "                result.then(function(value) {\n",
              "                    parse = JSON.parse(JSON.stringify(value))[\"data\"]\n",
              "                    parse = JSON.parse(JSON.stringify(parse))[\"application/json\"]\n",
              "                    parse = JSON.parse(JSON.stringify(parse))[\"img_str\"]\n",
              "                    var image = new Image()\n",
              "                    image.src = parse;\n",
              "                    image.onload = function(){dst_canvasCtx.drawImage(image, 0, 0)}\n",
              "                    send_num -= 1\n",
              "                })\n",
              "            }\n",
              "            if (exit_flg){\n",
              "                requestAnimationFrame(_canvasUpdate);   \n",
              "            }else{\n",
              "                stream.getVideoTracks()[0].stop();\n",
              "            }\n",
              "      };\n",
              "    }\n",
              "    "
            ]
          },
          "metadata": {}
        }
      ]
    },
    {
      "cell_type": "code",
      "source": [
        ""
      ],
      "metadata": {
        "id": "zkoLkcrJbcxI"
      },
      "execution_count": null,
      "outputs": []
    }
  ]
}